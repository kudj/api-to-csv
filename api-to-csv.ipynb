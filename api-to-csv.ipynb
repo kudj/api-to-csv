{
 "cells": [
  {
   "cell_type": "code",
   "execution_count": 2,
   "metadata": {},
   "outputs": [],
   "source": [
    "import os\n",
    "import requests\n",
    "import json\n",
    "import csv\n",
    "import logging"
   ]
  },
  {
   "cell_type": "code",
   "execution_count": 6,
   "metadata": {},
   "outputs": [],
   "source": [
    "logging.basicConfig(filename='api-to-csv.log', encoding='utf-8', format='%(asctime)s - %(levelname)s - %(message)s', level=logging.DEBUG)\n",
    "\n",
    "output_filename = 'data.csv'\n",
    "\n",
    "\n",
    "with open(output_filename, 'a', newline='') as csv_file:\n",
    "\n",
    "    limit = 500\n",
    "    offset = 0\n",
    "\n",
    "    while(1):\n",
    "\n",
    "        try:\n",
    "\n",
    "            url = 'https://connection.keboola.com/v2/storage/files?limit='+ str(limit) +'&offset=' + str(offset) + '&showExpired=true'\n",
    "\n",
    "            r = requests.get(url, headers={\"X-StorageApi-Token\":os.environ['X-Storage-Token']})\n",
    "\n",
    "            data = json.loads(r.text)\n",
    "\n",
    "            logging.info(offset)\n",
    "\n",
    "\n",
    "            if len(data) > 0:\n",
    "                offset += limit\n",
    "\n",
    "\n",
    "                if not csv_file.tell():\n",
    "                    csv_writer = csv.DictWriter(csv_file, fieldnames=data[0].keys())\n",
    "                    csv_writer.writeheader()\n",
    "                    \n",
    "\n",
    "                for row in data:\n",
    "                    csv_writer.writerow(row)\n",
    "\n",
    "                \n",
    "            else:\n",
    "                break\n",
    "\n",
    "        except Exception as e:\n",
    "            logging.error('Loop:\\t' + str(e))\n"
   ]
  }
 ],
 "metadata": {
  "kernelspec": {
   "display_name": "base",
   "language": "python",
   "name": "python3"
  },
  "language_info": {
   "codemirror_mode": {
    "name": "ipython",
    "version": 3
   },
   "file_extension": ".py",
   "mimetype": "text/x-python",
   "name": "python",
   "nbconvert_exporter": "python",
   "pygments_lexer": "ipython3",
   "version": "3.10.10"
  },
  "orig_nbformat": 4
 },
 "nbformat": 4,
 "nbformat_minor": 2
}
